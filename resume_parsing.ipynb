{
  "nbformat": 4,
  "nbformat_minor": 0,
  "metadata": {
    "colab": {
      "provenance": [],
      "include_colab_link": true
    },
    "kernelspec": {
      "name": "python3",
      "display_name": "Python 3"
    },
    "language_info": {
      "name": "python"
    }
  },
  "cells": [
    {
      "cell_type": "markdown",
      "metadata": {
        "id": "view-in-github",
        "colab_type": "text"
      },
      "source": [
        "<a href=\"https://colab.research.google.com/github/helexrox/RESUME_PARSING/blob/main/resume_parsing.ipynb\" target=\"_parent\"><img src=\"https://colab.research.google.com/assets/colab-badge.svg\" alt=\"Open In Colab\"/></a>"
      ]
    },
    {
      "cell_type": "code",
      "source": [
        "!pip install pytesseract"
      ],
      "metadata": {
        "colab": {
          "base_uri": "https://localhost:8080/"
        },
        "id": "-VbNn9ViAGDT",
        "outputId": "0354650f-7c80-427b-8d69-4d432a6a26d5"
      },
      "execution_count": null,
      "outputs": [
        {
          "output_type": "stream",
          "name": "stdout",
          "text": [
            "Requirement already satisfied: pytesseract in /usr/local/lib/python3.10/dist-packages (0.3.10)\n",
            "Requirement already satisfied: packaging>=21.3 in /usr/local/lib/python3.10/dist-packages (from pytesseract) (24.1)\n",
            "Requirement already satisfied: Pillow>=8.0.0 in /usr/local/lib/python3.10/dist-packages (from pytesseract) (9.4.0)\n"
          ]
        }
      ]
    },
    {
      "cell_type": "code",
      "source": [
        "!pip install fitz"
      ],
      "metadata": {
        "colab": {
          "base_uri": "https://localhost:8080/"
        },
        "id": "ZpWsFYP3AOzf",
        "outputId": "6707f7a4-9142-4fe3-cc22-4fda3e01f91f"
      },
      "execution_count": null,
      "outputs": [
        {
          "output_type": "stream",
          "name": "stdout",
          "text": [
            "Requirement already satisfied: fitz in /usr/local/lib/python3.10/dist-packages (0.0.1.dev2)\n",
            "Requirement already satisfied: configobj in /usr/local/lib/python3.10/dist-packages (from fitz) (5.0.8)\n",
            "Requirement already satisfied: configparser in /usr/local/lib/python3.10/dist-packages (from fitz) (7.0.0)\n",
            "Requirement already satisfied: httplib2 in /usr/local/lib/python3.10/dist-packages (from fitz) (0.22.0)\n",
            "Requirement already satisfied: nibabel in /usr/local/lib/python3.10/dist-packages (from fitz) (4.0.2)\n",
            "Requirement already satisfied: nipype in /usr/local/lib/python3.10/dist-packages (from fitz) (1.8.6)\n",
            "Requirement already satisfied: numpy in /usr/local/lib/python3.10/dist-packages (from fitz) (1.25.2)\n",
            "Requirement already satisfied: pandas in /usr/local/lib/python3.10/dist-packages (from fitz) (2.0.3)\n",
            "Requirement already satisfied: pyxnat in /usr/local/lib/python3.10/dist-packages (from fitz) (1.6.2)\n",
            "Requirement already satisfied: scipy in /usr/local/lib/python3.10/dist-packages (from fitz) (1.11.4)\n",
            "Requirement already satisfied: six in /usr/local/lib/python3.10/dist-packages (from configobj->fitz) (1.16.0)\n",
            "Requirement already satisfied: pyparsing!=3.0.0,!=3.0.1,!=3.0.2,!=3.0.3,<4,>=2.4.2 in /usr/local/lib/python3.10/dist-packages (from httplib2->fitz) (3.1.2)\n",
            "Requirement already satisfied: packaging>=17.0 in /usr/local/lib/python3.10/dist-packages (from nibabel->fitz) (24.1)\n",
            "Requirement already satisfied: setuptools in /usr/local/lib/python3.10/dist-packages (from nibabel->fitz) (67.7.2)\n",
            "Requirement already satisfied: click>=6.6.0 in /usr/local/lib/python3.10/dist-packages (from nipype->fitz) (8.1.7)\n",
            "Requirement already satisfied: networkx>=2.0 in /usr/local/lib/python3.10/dist-packages (from nipype->fitz) (3.3)\n",
            "Requirement already satisfied: prov>=1.5.2 in /usr/local/lib/python3.10/dist-packages (from nipype->fitz) (2.0.1)\n",
            "Requirement already satisfied: pydot>=1.2.3 in /usr/local/lib/python3.10/dist-packages (from nipype->fitz) (1.4.2)\n",
            "Requirement already satisfied: python-dateutil>=2.2 in /usr/local/lib/python3.10/dist-packages (from nipype->fitz) (2.8.2)\n",
            "Requirement already satisfied: rdflib>=5.0.0 in /usr/local/lib/python3.10/dist-packages (from nipype->fitz) (6.3.2)\n",
            "Requirement already satisfied: simplejson>=3.8.0 in /usr/local/lib/python3.10/dist-packages (from nipype->fitz) (3.19.2)\n",
            "Requirement already satisfied: traits!=5.0,<6.4,>=4.6 in /usr/local/lib/python3.10/dist-packages (from nipype->fitz) (6.3.2)\n",
            "Requirement already satisfied: filelock>=3.0.0 in /usr/local/lib/python3.10/dist-packages (from nipype->fitz) (3.15.4)\n",
            "Requirement already satisfied: etelemetry>=0.2.0 in /usr/local/lib/python3.10/dist-packages (from nipype->fitz) (0.3.1)\n",
            "Requirement already satisfied: looseversion in /usr/local/lib/python3.10/dist-packages (from nipype->fitz) (1.3.0)\n",
            "Requirement already satisfied: pytz>=2020.1 in /usr/local/lib/python3.10/dist-packages (from pandas->fitz) (2023.4)\n",
            "Requirement already satisfied: tzdata>=2022.1 in /usr/local/lib/python3.10/dist-packages (from pandas->fitz) (2024.1)\n",
            "Requirement already satisfied: lxml>=4.3 in /usr/local/lib/python3.10/dist-packages (from pyxnat->fitz) (4.9.4)\n",
            "Requirement already satisfied: requests>=2.20 in /usr/local/lib/python3.10/dist-packages (from pyxnat->fitz) (2.31.0)\n",
            "Requirement already satisfied: pathlib>=1.0 in /usr/local/lib/python3.10/dist-packages (from pyxnat->fitz) (1.0.1)\n",
            "Requirement already satisfied: ci-info>=0.2 in /usr/local/lib/python3.10/dist-packages (from etelemetry>=0.2.0->nipype->fitz) (0.3.0)\n",
            "Requirement already satisfied: isodate<0.7.0,>=0.6.0 in /usr/local/lib/python3.10/dist-packages (from rdflib>=5.0.0->nipype->fitz) (0.6.1)\n",
            "Requirement already satisfied: charset-normalizer<4,>=2 in /usr/local/lib/python3.10/dist-packages (from requests>=2.20->pyxnat->fitz) (3.3.2)\n",
            "Requirement already satisfied: idna<4,>=2.5 in /usr/local/lib/python3.10/dist-packages (from requests>=2.20->pyxnat->fitz) (3.7)\n",
            "Requirement already satisfied: urllib3<3,>=1.21.1 in /usr/local/lib/python3.10/dist-packages (from requests>=2.20->pyxnat->fitz) (2.0.7)\n",
            "Requirement already satisfied: certifi>=2017.4.17 in /usr/local/lib/python3.10/dist-packages (from requests>=2.20->pyxnat->fitz) (2024.7.4)\n"
          ]
        }
      ]
    },
    {
      "cell_type": "code",
      "source": [
        "!pip install frontend"
      ],
      "metadata": {
        "colab": {
          "base_uri": "https://localhost:8080/"
        },
        "id": "_Iu0weHUAX6v",
        "outputId": "6e29d751-ec5a-458c-d346-9e0b0bd303d1"
      },
      "execution_count": null,
      "outputs": [
        {
          "output_type": "stream",
          "name": "stdout",
          "text": [
            "Requirement already satisfied: frontend in /usr/local/lib/python3.10/dist-packages (0.0.3)\n",
            "Requirement already satisfied: starlette>=0.12.0 in /usr/local/lib/python3.10/dist-packages (from frontend) (0.38.0)\n",
            "Requirement already satisfied: uvicorn>=0.7.1 in /usr/local/lib/python3.10/dist-packages (from frontend) (0.30.3)\n",
            "Requirement already satisfied: itsdangerous>=1.1.0 in /usr/local/lib/python3.10/dist-packages (from frontend) (2.2.0)\n",
            "Requirement already satisfied: aiofiles in /usr/local/lib/python3.10/dist-packages (from frontend) (24.1.0)\n",
            "Requirement already satisfied: anyio<5,>=3.4.0 in /usr/local/lib/python3.10/dist-packages (from starlette>=0.12.0->frontend) (3.7.1)\n",
            "Requirement already satisfied: click>=7.0 in /usr/local/lib/python3.10/dist-packages (from uvicorn>=0.7.1->frontend) (8.1.7)\n",
            "Requirement already satisfied: h11>=0.8 in /usr/local/lib/python3.10/dist-packages (from uvicorn>=0.7.1->frontend) (0.14.0)\n",
            "Requirement already satisfied: typing-extensions>=4.0 in /usr/local/lib/python3.10/dist-packages (from uvicorn>=0.7.1->frontend) (4.12.2)\n",
            "Requirement already satisfied: idna>=2.8 in /usr/local/lib/python3.10/dist-packages (from anyio<5,>=3.4.0->starlette>=0.12.0->frontend) (3.7)\n",
            "Requirement already satisfied: sniffio>=1.1 in /usr/local/lib/python3.10/dist-packages (from anyio<5,>=3.4.0->starlette>=0.12.0->frontend) (1.3.1)\n",
            "Requirement already satisfied: exceptiongroup in /usr/local/lib/python3.10/dist-packages (from anyio<5,>=3.4.0->starlette>=0.12.0->frontend) (1.2.2)\n"
          ]
        }
      ]
    },
    {
      "cell_type": "code",
      "source": [
        "!pip install pymupdf\n",
        "!pip install pymupdf\n"
      ],
      "metadata": {
        "colab": {
          "base_uri": "https://localhost:8080/"
        },
        "id": "zH_CFl1OBDOs",
        "outputId": "507f73fb-2ac2-4a91-aa9a-1c9cb18c98ce"
      },
      "execution_count": null,
      "outputs": [
        {
          "output_type": "stream",
          "name": "stdout",
          "text": [
            "Collecting pymupdf\n",
            "  Downloading PyMuPDF-1.24.8-cp310-none-manylinux2014_x86_64.whl (3.5 MB)\n",
            "\u001b[2K     \u001b[90m━━━━━━━━━━━━━━━━━━━━━━━━━━━━━━━━━━━━━━━━\u001b[0m \u001b[32m3.5/3.5 MB\u001b[0m \u001b[31m11.5 MB/s\u001b[0m eta \u001b[36m0:00:00\u001b[0m\n",
            "\u001b[?25hCollecting PyMuPDFb==1.24.8 (from pymupdf)\n",
            "  Downloading PyMuPDFb-1.24.8-py3-none-manylinux2014_x86_64.manylinux_2_17_x86_64.whl (15.9 MB)\n",
            "\u001b[2K     \u001b[90m━━━━━━━━━━━━━━━━━━━━━━━━━━━━━━━━━━━━━━━━\u001b[0m \u001b[32m15.9/15.9 MB\u001b[0m \u001b[31m43.5 MB/s\u001b[0m eta \u001b[36m0:00:00\u001b[0m\n",
            "\u001b[?25hInstalling collected packages: PyMuPDFb, pymupdf\n",
            "Successfully installed PyMuPDFb-1.24.8 pymupdf-1.24.8\n",
            "Requirement already satisfied: pymupdf in /usr/local/lib/python3.10/dist-packages (1.24.8)\n",
            "Requirement already satisfied: PyMuPDFb==1.24.8 in /usr/local/lib/python3.10/dist-packages (from pymupdf) (1.24.8)\n"
          ]
        }
      ]
    },
    {
      "cell_type": "code",
      "source": [
        "!pip install spacy pillow pytesseract pymupdf\n",
        "\n"
      ],
      "metadata": {
        "colab": {
          "base_uri": "https://localhost:8080/"
        },
        "id": "3N1Q63aRSlrZ",
        "outputId": "05b6f435-ccf8-4429-e525-5dd497248bf1"
      },
      "execution_count": null,
      "outputs": [
        {
          "output_type": "stream",
          "name": "stdout",
          "text": [
            "Requirement already satisfied: spacy in /usr/local/lib/python3.10/dist-packages (3.7.5)\n",
            "Requirement already satisfied: pillow in /usr/local/lib/python3.10/dist-packages (9.4.0)\n",
            "Requirement already satisfied: pytesseract in /usr/local/lib/python3.10/dist-packages (0.3.10)\n",
            "Requirement already satisfied: pymupdf in /usr/local/lib/python3.10/dist-packages (1.24.8)\n",
            "Requirement already satisfied: spacy-legacy<3.1.0,>=3.0.11 in /usr/local/lib/python3.10/dist-packages (from spacy) (3.0.12)\n",
            "Requirement already satisfied: spacy-loggers<2.0.0,>=1.0.0 in /usr/local/lib/python3.10/dist-packages (from spacy) (1.0.5)\n",
            "Requirement already satisfied: murmurhash<1.1.0,>=0.28.0 in /usr/local/lib/python3.10/dist-packages (from spacy) (1.0.10)\n",
            "Requirement already satisfied: cymem<2.1.0,>=2.0.2 in /usr/local/lib/python3.10/dist-packages (from spacy) (2.0.8)\n",
            "Requirement already satisfied: preshed<3.1.0,>=3.0.2 in /usr/local/lib/python3.10/dist-packages (from spacy) (3.0.9)\n",
            "Requirement already satisfied: thinc<8.3.0,>=8.2.2 in /usr/local/lib/python3.10/dist-packages (from spacy) (8.2.5)\n",
            "Requirement already satisfied: wasabi<1.2.0,>=0.9.1 in /usr/local/lib/python3.10/dist-packages (from spacy) (1.1.3)\n",
            "Requirement already satisfied: srsly<3.0.0,>=2.4.3 in /usr/local/lib/python3.10/dist-packages (from spacy) (2.4.8)\n",
            "Requirement already satisfied: catalogue<2.1.0,>=2.0.6 in /usr/local/lib/python3.10/dist-packages (from spacy) (2.0.10)\n",
            "Requirement already satisfied: weasel<0.5.0,>=0.1.0 in /usr/local/lib/python3.10/dist-packages (from spacy) (0.4.1)\n",
            "Requirement already satisfied: typer<1.0.0,>=0.3.0 in /usr/local/lib/python3.10/dist-packages (from spacy) (0.12.3)\n",
            "Requirement already satisfied: tqdm<5.0.0,>=4.38.0 in /usr/local/lib/python3.10/dist-packages (from spacy) (4.66.4)\n",
            "Requirement already satisfied: requests<3.0.0,>=2.13.0 in /usr/local/lib/python3.10/dist-packages (from spacy) (2.31.0)\n",
            "Requirement already satisfied: pydantic!=1.8,!=1.8.1,<3.0.0,>=1.7.4 in /usr/local/lib/python3.10/dist-packages (from spacy) (2.8.2)\n",
            "Requirement already satisfied: jinja2 in /usr/local/lib/python3.10/dist-packages (from spacy) (3.1.4)\n",
            "Requirement already satisfied: setuptools in /usr/local/lib/python3.10/dist-packages (from spacy) (67.7.2)\n",
            "Requirement already satisfied: packaging>=20.0 in /usr/local/lib/python3.10/dist-packages (from spacy) (24.1)\n",
            "Requirement already satisfied: langcodes<4.0.0,>=3.2.0 in /usr/local/lib/python3.10/dist-packages (from spacy) (3.4.0)\n",
            "Requirement already satisfied: numpy>=1.19.0 in /usr/local/lib/python3.10/dist-packages (from spacy) (1.25.2)\n",
            "Requirement already satisfied: PyMuPDFb==1.24.8 in /usr/local/lib/python3.10/dist-packages (from pymupdf) (1.24.8)\n",
            "Requirement already satisfied: language-data>=1.2 in /usr/local/lib/python3.10/dist-packages (from langcodes<4.0.0,>=3.2.0->spacy) (1.2.0)\n",
            "Requirement already satisfied: annotated-types>=0.4.0 in /usr/local/lib/python3.10/dist-packages (from pydantic!=1.8,!=1.8.1,<3.0.0,>=1.7.4->spacy) (0.7.0)\n",
            "Requirement already satisfied: pydantic-core==2.20.1 in /usr/local/lib/python3.10/dist-packages (from pydantic!=1.8,!=1.8.1,<3.0.0,>=1.7.4->spacy) (2.20.1)\n",
            "Requirement already satisfied: typing-extensions>=4.6.1 in /usr/local/lib/python3.10/dist-packages (from pydantic!=1.8,!=1.8.1,<3.0.0,>=1.7.4->spacy) (4.12.2)\n",
            "Requirement already satisfied: charset-normalizer<4,>=2 in /usr/local/lib/python3.10/dist-packages (from requests<3.0.0,>=2.13.0->spacy) (3.3.2)\n",
            "Requirement already satisfied: idna<4,>=2.5 in /usr/local/lib/python3.10/dist-packages (from requests<3.0.0,>=2.13.0->spacy) (3.7)\n",
            "Requirement already satisfied: urllib3<3,>=1.21.1 in /usr/local/lib/python3.10/dist-packages (from requests<3.0.0,>=2.13.0->spacy) (2.0.7)\n",
            "Requirement already satisfied: certifi>=2017.4.17 in /usr/local/lib/python3.10/dist-packages (from requests<3.0.0,>=2.13.0->spacy) (2024.7.4)\n",
            "Requirement already satisfied: blis<0.8.0,>=0.7.8 in /usr/local/lib/python3.10/dist-packages (from thinc<8.3.0,>=8.2.2->spacy) (0.7.11)\n",
            "Requirement already satisfied: confection<1.0.0,>=0.0.1 in /usr/local/lib/python3.10/dist-packages (from thinc<8.3.0,>=8.2.2->spacy) (0.1.5)\n",
            "Requirement already satisfied: click>=8.0.0 in /usr/local/lib/python3.10/dist-packages (from typer<1.0.0,>=0.3.0->spacy) (8.1.7)\n",
            "Requirement already satisfied: shellingham>=1.3.0 in /usr/local/lib/python3.10/dist-packages (from typer<1.0.0,>=0.3.0->spacy) (1.5.4)\n",
            "Requirement already satisfied: rich>=10.11.0 in /usr/local/lib/python3.10/dist-packages (from typer<1.0.0,>=0.3.0->spacy) (13.7.1)\n",
            "Requirement already satisfied: cloudpathlib<1.0.0,>=0.7.0 in /usr/local/lib/python3.10/dist-packages (from weasel<0.5.0,>=0.1.0->spacy) (0.18.1)\n",
            "Requirement already satisfied: smart-open<8.0.0,>=5.2.1 in /usr/local/lib/python3.10/dist-packages (from weasel<0.5.0,>=0.1.0->spacy) (7.0.4)\n",
            "Requirement already satisfied: MarkupSafe>=2.0 in /usr/local/lib/python3.10/dist-packages (from jinja2->spacy) (2.1.5)\n",
            "Requirement already satisfied: marisa-trie>=0.7.7 in /usr/local/lib/python3.10/dist-packages (from language-data>=1.2->langcodes<4.0.0,>=3.2.0->spacy) (1.2.0)\n",
            "Requirement already satisfied: markdown-it-py>=2.2.0 in /usr/local/lib/python3.10/dist-packages (from rich>=10.11.0->typer<1.0.0,>=0.3.0->spacy) (3.0.0)\n",
            "Requirement already satisfied: pygments<3.0.0,>=2.13.0 in /usr/local/lib/python3.10/dist-packages (from rich>=10.11.0->typer<1.0.0,>=0.3.0->spacy) (2.16.1)\n",
            "Requirement already satisfied: wrapt in /usr/local/lib/python3.10/dist-packages (from smart-open<8.0.0,>=5.2.1->weasel<0.5.0,>=0.1.0->spacy) (1.14.1)\n",
            "Requirement already satisfied: mdurl~=0.1 in /usr/local/lib/python3.10/dist-packages (from markdown-it-py>=2.2.0->rich>=10.11.0->typer<1.0.0,>=0.3.0->spacy) (0.1.2)\n"
          ]
        }
      ]
    },
    {
      "cell_type": "code",
      "source": [
        "!pip install pytesseract"
      ],
      "metadata": {
        "colab": {
          "base_uri": "https://localhost:8080/"
        },
        "id": "5wgYM87CnlO7",
        "outputId": "ad40d2b0-6235-4676-9ed8-688973e8e565"
      },
      "execution_count": null,
      "outputs": [
        {
          "output_type": "stream",
          "name": "stdout",
          "text": [
            "Requirement already satisfied: pytesseract in /usr/local/lib/python3.10/dist-packages (0.3.10)\n",
            "Requirement already satisfied: packaging>=21.3 in /usr/local/lib/python3.10/dist-packages (from pytesseract) (24.1)\n",
            "Requirement already satisfied: Pillow>=8.0.0 in /usr/local/lib/python3.10/dist-packages (from pytesseract) (9.4.0)\n"
          ]
        }
      ]
    },
    {
      "cell_type": "code",
      "source": [
        "import json\n",
        "import spacy\n",
        "from PIL import Image\n",
        "import pytesseract\n",
        "import fitz  # PyMuPDF\n",
        "\n",
        "# Load SpaCy model\n",
        "nlp = spacy.load(\"en_core_web_sm\")\n",
        "\n",
        "# Step 1: Generate Synthetic Data\n",
        "def generate_synthetic_data():\n",
        "    data = {\n",
        "        \"resumes\": [\n",
        "            {\n",
        "                \"id\": \"1\",\n",
        "                \"text\": \"John Doe\\nSoftware Engineer\\nLocation: San Francisco, CA\\nSkills: Python, JavaScript, Machine Learning\\nExperience: 5 years in software development.\",\n",
        "                \"label\": {\n",
        "                    \"name\": \"John Doe\",\n",
        "                    \"location\": \"San Francisco, CA\",\n",
        "                    \"skills\": [\"Python\", \"JavaScript\", \"Machine Learning\"],\n",
        "                    \"experience\": \"5 years\"\n",
        "                }\n",
        "            },\n",
        "            {\n",
        "                \"id\": \"2\",\n",
        "                \"text\": \"Jane Smith\\nData Scientist\\nLocation: New York, NY\\nSkills: Python, SQL, Data Analysis\\nExperience: 3 years in data science.\",\n",
        "                \"label\": {\n",
        "                    \"name\": \"Jane Smith\",\n",
        "                    \"location\": \"New York, NY\",\n",
        "                    \"skills\": [\"Python\", \"SQL\", \"Data Analysis\"],\n",
        "                    \"experience\": \"3 years\"\n",
        "                }\n",
        "            },\n",
        "            {\n",
        "                \"id\": \"3\",\n",
        "                \"text\": \"Michael Johnson\\nProject Manager\\nLocation: Chicago, IL\\nSkills: Project Management, Agile, Scrum\\nExperience: 8 years in project management.\",\n",
        "                \"label\": {\n",
        "                    \"name\": \"Michael Johnson\",\n",
        "                    \"location\": \"Chicago, IL\",\n",
        "                    \"skills\": [\"Project Management\", \"Agile\", \"Scrum\"],\n",
        "                    \"experience\": \"8 years\"\n",
        "                }\n",
        "            },\n",
        "            {\n",
        "                \"id\": \"4\",\n",
        "                \"text\": \"Emily Davis\\nGraphic Designer\\nLocation: Los Angeles, CA\\nSkills: Adobe Photoshop, Illustrator, InDesign\\nExperience: 4 years in graphic design.\",\n",
        "                \"label\": {\n",
        "                    \"name\": \"Emily Davis\",\n",
        "                    \"location\": \"Los Angeles, CA\",\n",
        "                    \"skills\": [\"Adobe Photoshop\", \"Illustrator\", \"InDesign\"],\n",
        "                    \"experience\": \"4 years\"\n",
        "                }\n",
        "            },\n",
        "            {\n",
        "                \"id\": \"5\",\n",
        "                \"text\": \"David Brown\\nNetwork Engineer\\nLocation: Austin, TX\\nSkills: Network Security, Cisco, Python\\nExperience: 6 years in network engineering.\",\n",
        "                \"label\": {\n",
        "                    \"name\": \"David Brown\",\n",
        "                    \"location\": \"Austin, TX\",\n",
        "                    \"skills\": [\"Network Security\", \"Cisco\", \"Python\"],\n",
        "                    \"experience\": \"6 years\"\n",
        "                }\n",
        "            }\n",
        "        ]\n",
        "    }\n",
        "    with open('synthetic_resumes.json', 'w') as f:\n",
        "        json.dump(data, f, indent=4)\n",
        "\n",
        "# Step 2: Text Extraction from PDFs (if needed)\n",
        "def extract_text_from_pdf(pdf_path):\n",
        "    pdf_document = fitz.open(pdf_path)\n",
        "    text = \"\"\n",
        "    for page_num in range(len(pdf_document)):\n",
        "        page = pdf_document.load_page(page_num)\n",
        "        text += page.get_text()\n",
        "    return text\n",
        "\n",
        "# Step 3: Optical Character Recognition (OCR) with pytesseract (if needed)\n",
        "def ocr_image(image_path):\n",
        "    image = Image.open(image_path)\n",
        "    text = pytesseract.image_to_string(image)\n",
        "    return text\n",
        "\n",
        "# Step 4: NLP with SpaCy\n",
        "def extract_entities(text):\n",
        "    doc = nlp(text)\n",
        "    entities = {\n",
        "        \"PERSON\": [],\n",
        "        \"ORG\": [],\n",
        "        \"GPE\": []\n",
        "    }\n",
        "    for ent in doc.ents:\n",
        "        if ent.label_ in entities:\n",
        "            entities[ent.label_].append(ent.text)\n",
        "    return entities\n",
        "\n",
        "# Step 5: Build the Parsing System\n",
        "def parse_resume(resume_text):\n",
        "    entities = extract_entities(resume_text)\n",
        "    # Example of extracting specific details; this should be customized\n",
        "    return {\n",
        "        \"name\": entities.get(\"PERSON\", [\"Unknown\"])[0],\n",
        "        \"location\": entities.get(\"GPE\", [\"Unknown\"])[0],\n",
        "        \"skills\": extract_skills(resume_text),\n",
        "        \"experience\": extract_experience(resume_text)\n",
        "    }\n",
        "\n",
        "def extract_skills(text):\n",
        "    # Placeholder: Implement actual skill extraction logic\n",
        "    skills_keywords = [\"Python\", \"JavaScript\", \"Machine Learning\", \"SQL\", \"Data Analysis\", \"Project Management\", \"Agile\", \"Scrum\", \"Adobe Photoshop\", \"Illustrator\", \"InDesign\", \"Network Security\", \"Cisco\"]\n",
        "    return [skill for skill in skills_keywords if skill in text]\n",
        "\n",
        "def extract_experience(text):\n",
        "    # Placeholder: Implement actual experience extraction logic\n",
        "    if \"years\" in text:\n",
        "        start = text.find(\"Experience:\") + len(\"Experience:\")\n",
        "        end = text.find(\"years\", start)\n",
        "        return text[start:end].strip()\n",
        "    return \"Unknown\"\n",
        "\n",
        "# Run the simulation\n",
        "if __name__ == \"__main__\":\n",
        "    generate_synthetic_data()\n",
        "\n",
        "    # Load synthetic data\n",
        "    with open('synthetic_resumes.json') as f:\n",
        "        resumes = json.load(f)[\"resumes\"]\n",
        "\n",
        "    for resume in resumes:\n",
        "        resume_text = resume[\"text\"]\n",
        "        parsed_data = parse_resume(resume_text)\n",
        "        print(f\"Parsed Resume ID: {resume['id']}\")\n",
        "        print(parsed_data)\n",
        "        print(\"-\" * 40)\n"
      ],
      "metadata": {
        "colab": {
          "base_uri": "https://localhost:8080/"
        },
        "id": "C8iQzq93aYTu",
        "outputId": "cff604ef-c45d-4be9-8c78-1b73b998285a"
      },
      "execution_count": null,
      "outputs": [
        {
          "output_type": "stream",
          "name": "stdout",
          "text": [
            "Parsed Resume ID: 1\n",
            "{'name': 'John Doe\\n', 'location': 'San Francisco', 'skills': ['Python', 'JavaScript', 'Machine Learning'], 'experience': '5'}\n",
            "----------------------------------------\n",
            "Parsed Resume ID: 2\n",
            "{'name': 'Jane Smith', 'location': 'New York', 'skills': ['Python', 'SQL', 'Data Analysis'], 'experience': '3'}\n",
            "----------------------------------------\n",
            "Parsed Resume ID: 3\n",
            "{'name': 'Michael Johnson', 'location': 'Chicago', 'skills': ['Project Management', 'Agile', 'Scrum'], 'experience': '8'}\n",
            "----------------------------------------\n",
            "Parsed Resume ID: 4\n",
            "{'name': 'Davis', 'location': 'Los Angeles', 'skills': ['Adobe Photoshop', 'Illustrator', 'InDesign'], 'experience': '4'}\n",
            "----------------------------------------\n",
            "Parsed Resume ID: 5\n",
            "{'name': 'David Brown', 'location': 'Cisco', 'skills': ['Python', 'Network Security', 'Cisco'], 'experience': '6'}\n",
            "----------------------------------------\n"
          ]
        }
      ]
    },
    {
      "cell_type": "code",
      "source": [
        "import json\n",
        "import spacy\n",
        "from PIL import Image\n",
        "import pytesseract\n",
        "import fitz  # PyMuPDF\n",
        "\n",
        "# Load SpaCy model\n",
        "nlp = spacy.load(\"en_core_web_sm\")\n",
        "\n",
        "# Step 1: Text Extraction from PDFs\n",
        "def extract_text_from_pdf(pdf_path):\n",
        "    pdf_document = fitz.open(pdf_path)\n",
        "    text = \"\"\n",
        "    for page_num in range(len(pdf_document)):\n",
        "        page = pdf_document.load_page(page_num)\n",
        "        text += page.get_text()\n",
        "    return text\n",
        "\n",
        "# Step 2: Optical Character Recognition (OCR) with pytesseract (if needed)\n",
        "def ocr_image(image_path):\n",
        "    image = Image.open(image_path)\n",
        "    text = pytesseract.image_to_string(image)\n",
        "    return text\n",
        "\n",
        "# Step 3: NLP with SpaCy\n",
        "def extract_entities(text):\n",
        "    doc = nlp(text)\n",
        "    entities = {\n",
        "        \"PERSON\": [],\n",
        "        \"ORG\": [],\n",
        "        \"GPE\": []\n",
        "    }\n",
        "    for ent in doc.ents:\n",
        "        if ent.label_ in entities:\n",
        "            entities[ent.label_].append(ent.text)\n",
        "    return entities\n",
        "\n",
        "# Step 4: Build the Parsing System\n",
        "def parse_resume(resume_text):\n",
        "    entities = extract_entities(resume_text)\n",
        "    name = entities.get(\"PERSON\", [\"Unknown\"])[0] if entities[\"PERSON\"] else \"Unknown\"\n",
        "    location = entities.get(\"GPE\", [\"Unknown\"])[0] if entities[\"GPE\"] else \"Unknown\"\n",
        "    return {\n",
        "        \"name\": name,\n",
        "        \"location\": location,\n",
        "        \"skills\": extract_skills(resume_text),\n",
        "        \"experience\": extract_experience(resume_text)\n",
        "    }\n",
        "\n",
        "def extract_skills(text):\n",
        "    # Placeholder: Implement actual skill extraction logic\n",
        "    skills_keywords = [\"Python\", \"JavaScript\", \"Machine Learning\", \"SQL\",\"C programming\",\"Data Analysis\", \"Project Management\", \"Agile\", \"Scrum\", \"Adobe Photoshop\", \"Illustrator\", \"InDesign\", \"Network Security\", \"Cisco\"]\n",
        "    return [skill for skill in skills_keywords if skill in text]\n",
        "\n",
        "def extract_experience(text):\n",
        "    # Placeholder: Implement actual experience extraction logic\n",
        "    if \"years\" in text:\n",
        "        start = text.find(\"Experience:\") + len(\"Experience:\")\n",
        "        end = text.find(\"years\", start)\n",
        "        return text[start:end].strip()\n",
        "    return \"Unknown\"\n",
        "\n",
        "# Step 5: Process the PDF and Store in JSON\n",
        "def process_pdf_and_store_in_json(pdf_path, json_path):\n",
        "    resume_text = extract_text_from_pdf(pdf_path)\n",
        "    resume_data = {\n",
        "        \"id\": \"1\",  # You can set this dynamically if needed\n",
        "        \"text\": resume_text,\n",
        "        \"label\": parse_resume(resume_text)\n",
        "    }\n",
        "    with open(json_path, 'w') as f:\n",
        "        json.dump({\"resumes\": [resume_data]}, f, indent=4)\n",
        "\n",
        "# Run the simulation\n",
        "if __name__ == \"__main__\":\n",
        "    # Specify the path to the PDF file\n",
        "    pdf_path = '/content/RESUME.pdf'\n",
        "    json_path = 'resume_data.json'\n",
        "\n",
        "    process_pdf_and_store_in_json(pdf_path, json_path)\n",
        "\n",
        "    # Load the processed JSON data\n",
        "    with open(json_path) as f:\n",
        "        resumes = json.load(f)[\"resumes\"]\n",
        "\n",
        "    for resume in resumes:\n",
        "        resume_text = resume[\"text\"]\n",
        "        parsed_data = parse_resume(resume_text)\n",
        "        print(f\"Parsed Resume ID: {resume['id']}\")\n",
        "        print(parsed_data)\n",
        "        print(\"-\" * 40)\n"
      ],
      "metadata": {
        "colab": {
          "base_uri": "https://localhost:8080/"
        },
        "id": "qB77362BTPGp",
        "outputId": "653a0237-c22f-464f-e20b-04cf1e7b1717"
      },
      "execution_count": null,
      "outputs": [
        {
          "output_type": "stream",
          "name": "stdout",
          "text": [
            "Parsed Resume ID: 1\n",
            "{'name': 'ANUVA GOYAL', 'location': 'Undertaking', 'skills': ['Python', 'JavaScript', 'Machine Learning', 'SQL'], 'experience': 'Unknown'}\n",
            "----------------------------------------\n"
          ]
        }
      ]
    }
  ]
}